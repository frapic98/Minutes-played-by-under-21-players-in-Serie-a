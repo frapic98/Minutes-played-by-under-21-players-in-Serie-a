{
 "cells": [
  {
   "cell_type": "code",
   "execution_count": 1,
   "metadata": {},
   "outputs": [],
   "source": [
    "import numpy as np\n",
    "import pandas as pd\n",
    "import matplotlib.pyplot as plt\n",
    "import seaborn as sns\n",
    "from utility import grangers_causation_matrix,granger_test,adf_test\n",
    "from statsmodels.tsa.stattools import grangercausalitytests\n",
    "from statsmodels.tsa.stattools import adfuller\n",
    "from scipy.stats import spearmanr,pearsonr\n",
    "from statsmodels.tsa.stattools import ccf\n",
    "sns.set_theme(style=\"whitegrid\")"
   ]
  },
  {
   "cell_type": "code",
   "execution_count": 2,
   "metadata": {},
   "outputs": [],
   "source": [
    "mins_played=pd.read_excel(\"Under21_minutes_played.xlsx\",index_col=0)\n",
    "all_teams=pd.read_excel(\"Under21_minutes_played_teams.xlsx\",index_col=0)"
   ]
  },
  {
   "cell_type": "code",
   "execution_count": 3,
   "metadata": {},
   "outputs": [],
   "source": [
    "mins_played[\"Minutes_played_italians\"]=mins_played[\"Minutes_played_italians\"]+mins_played[\"Minutes_played_oriundi\"]"
   ]
  },
  {
   "cell_type": "markdown",
   "metadata": {},
   "source": [
    "# Granger Casuality Test and CCN"
   ]
  },
  {
   "cell_type": "code",
   "execution_count": 4,
   "metadata": {},
   "outputs": [
    {
     "data": {
      "text/html": [
       "<div>\n",
       "<style scoped>\n",
       "    .dataframe tbody tr th:only-of-type {\n",
       "        vertical-align: middle;\n",
       "    }\n",
       "\n",
       "    .dataframe tbody tr th {\n",
       "        vertical-align: top;\n",
       "    }\n",
       "\n",
       "    .dataframe thead th {\n",
       "        text-align: right;\n",
       "    }\n",
       "</style>\n",
       "<table border=\"1\" class=\"dataframe\">\n",
       "  <thead>\n",
       "    <tr style=\"text-align: right;\">\n",
       "      <th></th>\n",
       "      <th>Minutes_played_under21_x</th>\n",
       "      <th>Minutes_played_italians_x</th>\n",
       "      <th>Minutes_played_foreigners_x</th>\n",
       "      <th>Fifa_points_x</th>\n",
       "      <th>Points_naz_u21_x</th>\n",
       "      <th>revenue_x</th>\n",
       "    </tr>\n",
       "  </thead>\n",
       "  <tbody>\n",
       "    <tr>\n",
       "      <th>Minutes_played_under21_y</th>\n",
       "      <td>1.0000</td>\n",
       "      <td>0.5880</td>\n",
       "      <td>0.5880</td>\n",
       "      <td>0.0285</td>\n",
       "      <td>0.2245</td>\n",
       "      <td>0.0022</td>\n",
       "    </tr>\n",
       "    <tr>\n",
       "      <th>Minutes_played_italians_y</th>\n",
       "      <td>0.4130</td>\n",
       "      <td>1.0000</td>\n",
       "      <td>0.4130</td>\n",
       "      <td>0.0041</td>\n",
       "      <td>0.0389</td>\n",
       "      <td>0.0836</td>\n",
       "    </tr>\n",
       "    <tr>\n",
       "      <th>Minutes_played_foreigners_y</th>\n",
       "      <td>0.2737</td>\n",
       "      <td>0.2737</td>\n",
       "      <td>1.0000</td>\n",
       "      <td>0.5093</td>\n",
       "      <td>0.0010</td>\n",
       "      <td>0.0008</td>\n",
       "    </tr>\n",
       "    <tr>\n",
       "      <th>Fifa_points_y</th>\n",
       "      <td>0.0738</td>\n",
       "      <td>0.4442</td>\n",
       "      <td>0.2491</td>\n",
       "      <td>1.0000</td>\n",
       "      <td>0.0504</td>\n",
       "      <td>0.1093</td>\n",
       "    </tr>\n",
       "    <tr>\n",
       "      <th>Points_naz_u21_y</th>\n",
       "      <td>0.2435</td>\n",
       "      <td>0.0255</td>\n",
       "      <td>0.0691</td>\n",
       "      <td>0.1597</td>\n",
       "      <td>1.0000</td>\n",
       "      <td>0.0676</td>\n",
       "    </tr>\n",
       "    <tr>\n",
       "      <th>revenue_y</th>\n",
       "      <td>0.0000</td>\n",
       "      <td>0.2739</td>\n",
       "      <td>0.0003</td>\n",
       "      <td>0.5133</td>\n",
       "      <td>0.0000</td>\n",
       "      <td>1.0000</td>\n",
       "    </tr>\n",
       "  </tbody>\n",
       "</table>\n",
       "</div>"
      ],
      "text/plain": [
       "                             Minutes_played_under21_x   \n",
       "Minutes_played_under21_y                       1.0000  \\\n",
       "Minutes_played_italians_y                      0.4130   \n",
       "Minutes_played_foreigners_y                    0.2737   \n",
       "Fifa_points_y                                  0.0738   \n",
       "Points_naz_u21_y                               0.2435   \n",
       "revenue_y                                      0.0000   \n",
       "\n",
       "                             Minutes_played_italians_x   \n",
       "Minutes_played_under21_y                        0.5880  \\\n",
       "Minutes_played_italians_y                       1.0000   \n",
       "Minutes_played_foreigners_y                     0.2737   \n",
       "Fifa_points_y                                   0.4442   \n",
       "Points_naz_u21_y                                0.0255   \n",
       "revenue_y                                       0.2739   \n",
       "\n",
       "                             Minutes_played_foreigners_x  Fifa_points_x   \n",
       "Minutes_played_under21_y                          0.5880         0.0285  \\\n",
       "Minutes_played_italians_y                         0.4130         0.0041   \n",
       "Minutes_played_foreigners_y                       1.0000         0.5093   \n",
       "Fifa_points_y                                     0.2491         1.0000   \n",
       "Points_naz_u21_y                                  0.0691         0.1597   \n",
       "revenue_y                                         0.0003         0.5133   \n",
       "\n",
       "                             Points_naz_u21_x  revenue_x  \n",
       "Minutes_played_under21_y               0.2245     0.0022  \n",
       "Minutes_played_italians_y              0.0389     0.0836  \n",
       "Minutes_played_foreigners_y            0.0010     0.0008  \n",
       "Fifa_points_y                          0.0504     0.1093  \n",
       "Points_naz_u21_y                       1.0000     0.0676  \n",
       "revenue_y                              0.0000     1.0000  "
      ]
     },
     "execution_count": 4,
     "metadata": {},
     "output_type": "execute_result"
    }
   ],
   "source": [
    "grangers_causation_matrix(mins_played[['Minutes_played_under21','Minutes_played_italians','Minutes_played_foreigners','Fifa_points','Points_naz_u21','revenue']][27:-2], variables = mins_played[['Minutes_played_under21','Minutes_played_italians','Minutes_played_foreigners','Fifa_points','Points_naz_u21','revenue']][27:-2].columns)"
   ]
  },
  {
   "cell_type": "markdown",
   "metadata": {},
   "source": [
    "## FifaPoints and Minutes_played_italians"
   ]
  },
  {
   "cell_type": "code",
   "execution_count": 16,
   "metadata": {},
   "outputs": [
    {
     "data": {
      "text/html": [
       "<div>\n",
       "<style scoped>\n",
       "    .dataframe tbody tr th:only-of-type {\n",
       "        vertical-align: middle;\n",
       "    }\n",
       "\n",
       "    .dataframe tbody tr th {\n",
       "        vertical-align: top;\n",
       "    }\n",
       "\n",
       "    .dataframe thead th {\n",
       "        text-align: right;\n",
       "    }\n",
       "</style>\n",
       "<table border=\"1\" class=\"dataframe\">\n",
       "  <thead>\n",
       "    <tr style=\"text-align: right;\">\n",
       "      <th></th>\n",
       "      <th>Minutes_played_italians</th>\n",
       "      <th>Fifa_points</th>\n",
       "    </tr>\n",
       "  </thead>\n",
       "  <tbody>\n",
       "    <tr>\n",
       "      <th>Test statistic</th>\n",
       "      <td>-2.8789</td>\n",
       "      <td>-3.2954</td>\n",
       "    </tr>\n",
       "    <tr>\n",
       "      <th>p-value</th>\n",
       "      <td>0.0479</td>\n",
       "      <td>0.0151</td>\n",
       "    </tr>\n",
       "    <tr>\n",
       "      <th>Critical value - 1%</th>\n",
       "      <td>-3.6791</td>\n",
       "      <td>-3.6889</td>\n",
       "    </tr>\n",
       "    <tr>\n",
       "      <th>Critical value - 5%</th>\n",
       "      <td>-2.9679</td>\n",
       "      <td>-2.9720</td>\n",
       "    </tr>\n",
       "    <tr>\n",
       "      <th>Critical value - 10%</th>\n",
       "      <td>-2.6232</td>\n",
       "      <td>-2.6253</td>\n",
       "    </tr>\n",
       "  </tbody>\n",
       "</table>\n",
       "</div>"
      ],
      "text/plain": [
       "                      Minutes_played_italians  Fifa_points\n",
       "Test statistic                        -2.8789      -3.2954\n",
       "p-value                                0.0479       0.0151\n",
       "Critical value - 1%                   -3.6791      -3.6889\n",
       "Critical value - 5%                   -2.9679      -2.9720\n",
       "Critical value - 10%                  -2.6232      -2.6253"
      ]
     },
     "execution_count": 16,
     "metadata": {},
     "output_type": "execute_result"
    }
   ],
   "source": [
    "adf_test(mins_played[[\"Minutes_played_italians\",\"Fifa_points\"]][26:])"
   ]
  },
  {
   "cell_type": "code",
   "execution_count": 15,
   "metadata": {},
   "outputs": [
    {
     "name": "stdout",
     "output_type": "stream",
     "text": [
      "Peason Correlation: 0.0927, P-value 0.31\n",
      "Correlation Minutes_played_italians e Fifa_points Lag 0: 0.0261\n",
      "Correlation Minutes_played_italians e Fifa_points Lag 1: 0.0176\n",
      "Correlation Minutes_played_italians e Fifa_points Lag 2: 0.0238\n",
      "Spearman Correlation: -0.0195, P-value 0.9231\n",
      "Lag1 Correlation: 0.007, P-value 0.9722\n",
      "Lag2 Correlation: 0.0814, P-value 0.6864\n"
     ]
    }
   ],
   "source": [
    "from statsmodels.tsa.stattools import ccf\n",
    "#ccf(mins_played[\"Points_naz_u21\"][22:],mins_played[\"Minutes_played_italians\"][22:],adjusted=False)\n",
    "cross_corr_ita_fifa=ccf(mins_played[\"Fifa_points\"][26:],mins_played[\"Minutes_played_italians\"][26:],adjusted=True)\n",
    "corr_pearson_ita_fifa=pearsonr(mins_played[\"Fifa_points\"][25:],mins_played[\"Minutes_played_italians\"][25:],alternative='greater')\n",
    "print(f\"Peason Correlation: {round(corr_pearson_ita_fifa.statistic,4)}, P-value {round(corr_pearson_ita_fifa.pvalue,4)}\")\n",
    "print(f\"Correlation Minutes_played_italians e Fifa_points Lag 0: {round(cross_corr_ita_fifa[0],5)}\")\n",
    "print(f\"Correlation Minutes_played_italians e Fifa_points Lag 1: {round(cross_corr_ita_fifa[1],4)}\")\n",
    "print(f\"Correlation Minutes_played_italians e Fifa_points Lag 2: {round(cross_corr_ita_fifa[2],4)}\")\n",
    "#crea una tabella con i valori di cross correlation\n",
    "\n",
    "\n",
    "corr_spearman_ita_nazu21=pearsonr(mins_played[\"Fifa_points\"][27:-2],mins_played[\"Minutes_played_italians\"][27:-2])\n",
    "corr_spearman_ita_nazu21_lag1=pearsonr(mins_played[\"Fifa_points\"][27:-2],mins_played[\"Minutes_played_italians\"][26:-2].shift(1).dropna())\n",
    "corr_spearman_ita_nazu21_lag2=pearsonr(mins_played[\"Fifa_points\"][27:-2],mins_played[\"Minutes_played_italians\"][25:-2].shift(2).dropna())\n",
    "\n",
    "\n",
    "print(f\"Spearman Correlation: {round(corr_spearman_ita_nazu21.statistic,4)}, P-value {round(corr_spearman_ita_nazu21.pvalue,4)}\")\n",
    "print(f\"Lag1 Correlation: {round(corr_spearman_ita_nazu21_lag1.statistic,4)}, P-value {round(corr_spearman_ita_nazu21_lag1.pvalue,4)}\")\n",
    "print(f\"Lag2 Correlation: {round(corr_spearman_ita_nazu21_lag2.statistic,4)}, P-value {round(corr_spearman_ita_nazu21_lag2.pvalue,4)}\")\n"
   ]
  },
  {
   "cell_type": "code",
   "execution_count": 14,
   "metadata": {},
   "outputs": [
    {
     "name": "stdout",
     "output_type": "stream",
     "text": [
      "---------------------------------------------------------------------------------------------------------\n",
      "Grenger Causality Test Results for: Fifa_points and Minutes played by Italian U21 players from 1996 \n",
      "---------------------------------------------------------------------------------------------------------\n",
      "   Lag  Test Statistic   P-value\n",
      "1  1.0        1.093067  0.578953\n",
      "2  2.0        1.220757  0.748030\n",
      "3  3.0        2.092111  0.718822\n"
     ]
    }
   ],
   "source": [
    "granger_test(mins_played[['Fifa_points','Minutes_played_italians']][26:],4,2,\"Fifa_points and Minutes played by Italian U21 players from 1993\")"
   ]
  },
  {
   "cell_type": "markdown",
   "metadata": {},
   "source": [
    "## Iteration over ccf"
   ]
  },
  {
   "cell_type": "code",
   "execution_count": 8,
   "metadata": {},
   "outputs": [
    {
     "name": "stdout",
     "output_type": "stream",
     "text": [
      "Peason Correlation: 0.3333, P-value 0.083\n",
      "Lag1 Correlation: -0.237, P-value 0.2246\n",
      "Lag2 Correlation: -0.4313, P-value 0.0219\n"
     ]
    }
   ],
   "source": [
    "corr_spearman_ita_nazu21=spearmanr(mins_played[\"revenue\"][28:],mins_played[\"Minutes_played_under21\"][28:])\n",
    "corr_spearman_ita_nazu21_lag1=spearmanr(mins_played[\"revenue\"][28:],mins_played[\"Minutes_played_italians\"][27:].shift(1).dropna())\n",
    "corr_spearman_ita_nazu21_lag2=spearmanr(mins_played[\"revenue\"][28:],mins_played[\"Minutes_played_italians\"][26:].shift(2).dropna())\n",
    "\n",
    "\n",
    "print(f\"Peason Correlation: {round(corr_spearman_ita_nazu21.statistic,4)}, P-value {round(corr_spearman_ita_nazu21.pvalue,4)}\")\n",
    "print(f\"Lag1 Correlation: {round(corr_spearman_ita_nazu21_lag1.statistic,4)}, P-value {round(corr_spearman_ita_nazu21_lag1.pvalue,4)}\")\n",
    "print(f\"Lag2 Correlation: {round(corr_spearman_ita_nazu21_lag2.statistic,4)}, P-value {round(corr_spearman_ita_nazu21_lag2.pvalue,4)}\")\n",
    "\n",
    "\n",
    "for i in range(len(mins_played[26:-15])):\n",
    "    corr_shift_1=pearsonr(mins_played[\"revenue\"][26+i:],mins_played[\"Minutes_played_under21\"][25+i:].shift(1).dropna(),alternative='two-sided')\n",
    "    corr_shift_2=pearsonr(mins_played[\"revenue\"][26+i:],mins_played[\"Minutes_played_under21\"][24+i:].shift(2).dropna(),alternative='two-sided')\n",
    "    corr_shift_3=pearsonr(mins_played[\"revenue\"][26+i:],mins_played[\"Minutes_played_under21\"][23+i:].shift(3).dropna(),alternative='two-sided')\n",
    "\n",
    "    #corr=pearsonr(mins_played[\"revenue\"][26+i:],mins_played[\"Minutes_played_under21\"][26+i:],alternative='two-sided')\n",
    "    #if corr_shift>corr:\n",
    "    #print(f\"{26 + i}  corr {corr.statistic},corr_shift_1 {corr_shift_1.statistic},corr_shift_2 {corr_shift_2.statistic}, corr_shift_3 {corr_shift_3.statistic}\")"
   ]
  },
  {
   "cell_type": "markdown",
   "metadata": {},
   "source": [
    "## Points national team  u21 and Minutes_played_italians"
   ]
  },
  {
   "cell_type": "code",
   "execution_count": 9,
   "metadata": {},
   "outputs": [
    {
     "data": {
      "text/html": [
       "<div>\n",
       "<style scoped>\n",
       "    .dataframe tbody tr th:only-of-type {\n",
       "        vertical-align: middle;\n",
       "    }\n",
       "\n",
       "    .dataframe tbody tr th {\n",
       "        vertical-align: top;\n",
       "    }\n",
       "\n",
       "    .dataframe thead th {\n",
       "        text-align: right;\n",
       "    }\n",
       "</style>\n",
       "<table border=\"1\" class=\"dataframe\">\n",
       "  <thead>\n",
       "    <tr style=\"text-align: right;\">\n",
       "      <th></th>\n",
       "      <th>Minutes_played_italians</th>\n",
       "      <th>Points_naz_u21</th>\n",
       "    </tr>\n",
       "  </thead>\n",
       "  <tbody>\n",
       "    <tr>\n",
       "      <th>Test statistic</th>\n",
       "      <td>-2.8789</td>\n",
       "      <td>-4.5535</td>\n",
       "    </tr>\n",
       "    <tr>\n",
       "      <th>p-value</th>\n",
       "      <td>0.0479</td>\n",
       "      <td>0.0002</td>\n",
       "    </tr>\n",
       "    <tr>\n",
       "      <th>Critical value - 1%</th>\n",
       "      <td>-3.6791</td>\n",
       "      <td>-3.6791</td>\n",
       "    </tr>\n",
       "    <tr>\n",
       "      <th>Critical value - 5%</th>\n",
       "      <td>-2.9679</td>\n",
       "      <td>-2.9679</td>\n",
       "    </tr>\n",
       "    <tr>\n",
       "      <th>Critical value - 10%</th>\n",
       "      <td>-2.6232</td>\n",
       "      <td>-2.6232</td>\n",
       "    </tr>\n",
       "  </tbody>\n",
       "</table>\n",
       "</div>"
      ],
      "text/plain": [
       "                      Minutes_played_italians  Points_naz_u21\n",
       "Test statistic                        -2.8789         -4.5535\n",
       "p-value                                0.0479          0.0002\n",
       "Critical value - 1%                   -3.6791         -3.6791\n",
       "Critical value - 5%                   -2.9679         -2.9679\n",
       "Critical value - 10%                  -2.6232         -2.6232"
      ]
     },
     "execution_count": 9,
     "metadata": {},
     "output_type": "execute_result"
    }
   ],
   "source": [
    "adf_test(mins_played[[\"Minutes_played_italians\",\"Points_naz_u21\"]][26:])"
   ]
  },
  {
   "cell_type": "code",
   "execution_count": 11,
   "metadata": {},
   "outputs": [
    {
     "name": "stdout",
     "output_type": "stream",
     "text": [
      "Cross correlation between Italian U21 players and National Team U21 Points\n",
      "--------------------------------------------------------------------------------------------\n",
      "Peason Correlation: 0.4989, P-value 0.0025\n",
      "Correlation Minutes_played_italians e Points_naz_u21 Lag 0: 0.4264\n",
      "Correlation Minutes_played_italians e Points_naz_u21 Lag 1: 0.2931\n",
      "Correlation Minutes_played_italians e Points_naz_u21 Lag 2: 0.1726\n",
      "--------------------------------------------------------------------------------------------\n",
      "Spearman Correlation: 0.566, P-value 0.0011\n",
      "Lag1 Correlation: 0.4133, P-value 0.0232\n",
      "Lag2 Correlation: 0.3897, P-value 0.0333\n"
     ]
    }
   ],
   "source": [
    "\n",
    "cross_corr_ita_nazu21=ccf(mins_played[\"Points_naz_u21\"][26:],mins_played[\"Minutes_played_italians\"][26:],adjusted=True)\n",
    "corr_pearson_ita_nazu21=pearsonr(mins_played[\"Points_naz_u21\"][24:-2],mins_played[\"Minutes_played_italians\"][24:-2],alternative='greater')\n",
    "print(\"Cross correlation between Italian U21 players and National Team U21 Points\")\n",
    "print(\"--------------------------------------------------------------------------------------------\")\n",
    "print(f\"Peason Correlation: {round(corr_pearson_ita_nazu21.statistic,4)}, P-value {round(corr_pearson_ita_nazu21.pvalue,4)}\")\n",
    "print(f\"Correlation Minutes_played_italians e Points_naz_u21 Lag 0: {round(cross_corr_ita_nazu21[0],4)}\")\n",
    "print(f\"Correlation Minutes_played_italians e Points_naz_u21 Lag 1: {round(cross_corr_ita_nazu21[3],4)}\")\n",
    "print(f\"Correlation Minutes_played_italians e Points_naz_u21 Lag 2: {round(cross_corr_ita_nazu21[2],4)}\")\n",
    "\n",
    "\n",
    "print(\"--------------------------------------------------------------------------------------------\")\n",
    "\n",
    "corr_spearman_ita_nazu21=spearmanr(mins_played[\"Points_naz_u21\"][24:-2],mins_played[\"Minutes_played_italians\"][24:-2])\n",
    "corr_spearman_ita_nazu21_lag1=spearmanr(mins_played[\"Points_naz_u21\"][24:-2],mins_played[\"Minutes_played_italians\"][23:-2].shift(1).dropna())\n",
    "corr_spearman_ita_nazu21_lag2=spearmanr(mins_played[\"Points_naz_u21\"][24:-2],mins_played[\"Minutes_played_italians\"][22:-2].shift(2).dropna())\n",
    "\n",
    "\n",
    "print(f\"Spearman Correlation: {round(corr_spearman_ita_nazu21.statistic,4)}, P-value {round(corr_spearman_ita_nazu21.pvalue,4)}\")\n",
    "print(f\"Lag1 Correlation: {round(corr_spearman_ita_nazu21_lag1.statistic,4)}, P-value {round(corr_spearman_ita_nazu21_lag1.pvalue,4)}\")\n",
    "print(f\"Lag2 Correlation: {round(corr_spearman_ita_nazu21_lag2.statistic,4)}, P-value {round(corr_spearman_ita_nazu21_lag2.pvalue,4)}\")\n",
    "\n",
    "\n"
   ]
  },
  {
   "cell_type": "code",
   "execution_count": 12,
   "metadata": {},
   "outputs": [
    {
     "name": "stdout",
     "output_type": "stream",
     "text": [
      "---------------------------------------------------------------------------------------------------------\n",
      "Grenger Causality Test Results for: Points_naz_u21 and Minutes played by Italian U21 players from 1993 \n",
      "---------------------------------------------------------------------------------------------------------\n",
      "   Lag  Test Statistic   P-value\n",
      "2  2.0       12.867615  0.004932\n",
      "3  3.0       13.344389  0.009710\n",
      "4  4.0       11.957117  0.035380\n"
     ]
    }
   ],
   "source": [
    "granger_test(mins_played[['Points_naz_u21','Minutes_played_italians']][26:],5,3,\"Points_naz_u21 and Minutes played by Italian U21 players from 1993\")"
   ]
  },
  {
   "cell_type": "code",
   "execution_count": 13,
   "metadata": {},
   "outputs": [
    {
     "name": "stdout",
     "output_type": "stream",
     "text": [
      "Grenger Causality Test Results for: Points_naz_u21 and Minutes played by Italian U21 players\n",
      "   Lag  Test Statistic   P-value\n",
      "1  1.0       12.867615  0.004932\n",
      "2  2.0       13.344389  0.009710\n",
      "3  3.0       11.957117  0.035380\n"
     ]
    }
   ],
   "source": [
    "test_result=grangercausalitytests(mins_played[['Points_naz_u21','Minutes_played_italians']][28:-1],maxlag=5,verbose=False)\n",
    "#create a dataframe with the results of the granger causality test\n",
    "test_result_df=pd.DataFrame(columns=['Lag','Test Statistic','P-value'])\n",
    "for i in range(3,6):\n",
    "    test_result_df.loc[i-2]=[i-2,test_result[i][0]['ssr_chi2test'][0],test_result[i][0]['ssr_chi2test'][1]]\n",
    "print(\"Grenger Causality Test Results for: Points_naz_u21 and Minutes played by Italian U21 players\")\n",
    "print(test_result_df)"
   ]
  },
  {
   "cell_type": "markdown",
   "metadata": {},
   "source": [
    "## Revenue and Minutes_played_under21"
   ]
  },
  {
   "cell_type": "code",
   "execution_count": 12,
   "metadata": {},
   "outputs": [
    {
     "data": {
      "text/html": [
       "<div>\n",
       "<style scoped>\n",
       "    .dataframe tbody tr th:only-of-type {\n",
       "        vertical-align: middle;\n",
       "    }\n",
       "\n",
       "    .dataframe tbody tr th {\n",
       "        vertical-align: top;\n",
       "    }\n",
       "\n",
       "    .dataframe thead th {\n",
       "        text-align: right;\n",
       "    }\n",
       "</style>\n",
       "<table border=\"1\" class=\"dataframe\">\n",
       "  <thead>\n",
       "    <tr style=\"text-align: right;\">\n",
       "      <th></th>\n",
       "      <th>Minutes_played_italians</th>\n",
       "      <th>revenue</th>\n",
       "    </tr>\n",
       "  </thead>\n",
       "  <tbody>\n",
       "    <tr>\n",
       "      <th>Test statistic</th>\n",
       "      <td>-3.3464</td>\n",
       "      <td>-3.8396</td>\n",
       "    </tr>\n",
       "    <tr>\n",
       "      <th>p-value</th>\n",
       "      <td>0.0129</td>\n",
       "      <td>0.0025</td>\n",
       "    </tr>\n",
       "    <tr>\n",
       "      <th>Critical value - 1%</th>\n",
       "      <td>-3.7112</td>\n",
       "      <td>-3.8893</td>\n",
       "    </tr>\n",
       "    <tr>\n",
       "      <th>Critical value - 5%</th>\n",
       "      <td>-2.9812</td>\n",
       "      <td>-3.0544</td>\n",
       "    </tr>\n",
       "    <tr>\n",
       "      <th>Critical value - 10%</th>\n",
       "      <td>-2.6301</td>\n",
       "      <td>-2.6670</td>\n",
       "    </tr>\n",
       "  </tbody>\n",
       "</table>\n",
       "</div>"
      ],
      "text/plain": [
       "                      Minutes_played_italians  revenue\n",
       "Test statistic                        -3.3464  -3.8396\n",
       "p-value                                0.0129   0.0025\n",
       "Critical value - 1%                   -3.7112  -3.8893\n",
       "Critical value - 5%                   -2.9812  -3.0544\n",
       "Critical value - 10%                  -2.6301  -2.6670"
      ]
     },
     "execution_count": 12,
     "metadata": {},
     "output_type": "execute_result"
    }
   ],
   "source": [
    "adf_test(mins_played[[\"Minutes_played_italians\",\"revenue\"]][29:])"
   ]
  },
  {
   "cell_type": "code",
   "execution_count": 27,
   "metadata": {},
   "outputs": [
    {
     "name": "stdout",
     "output_type": "stream",
     "text": [
      "Cross correlation between U21 players and Profit\n",
      "--------------------------------------------------------------------------------------------\n",
      "Peason Correlation: 0.2486, P-value 0.1853\n",
      "Correlation Minutes_played_under21 e Entrate Lag 0: 0.324\n",
      "Correlation Minutes_played_under21 e Entrate Lag 1: 0.4178\n",
      "Correlation Minutes_played_under21 e Entrate Lag 2: 0.1756\n",
      "--------------------------------------------------------------------------------------------\n"
     ]
    }
   ],
   "source": [
    "from statsmodels.tsa.stattools import ccf\n",
    "\n",
    "cross_corr=ccf(mins_played[\"revenue\"][29:],mins_played[\"Minutes_played_under21\"][29:],adjusted=True)\n",
    "corr_pearson_ita_fifa=pearsonr(mins_played[\"revenue\"][26:],mins_played[\"Minutes_played_under21\"][26:],alternative='two-sided')\n",
    "print(\"Cross correlation between U21 players and Profit\")\n",
    "print(\"--------------------------------------------------------------------------------------------\")\n",
    "print(f\"Peason Correlation: {round(corr_pearson_ita_fifa.statistic,4)}, P-value {round(corr_pearson_ita_fifa.pvalue,4)}\")\n",
    "print(f\"Correlation Minutes_played_under21 e Entrate Lag 0: {round(cross_corr[0],4)}\")\n",
    "print(f\"Correlation Minutes_played_under21 e Entrate Lag 1: {round(cross_corr[1],4)}\")\n",
    "print(f\"Correlation Minutes_played_under21 e Entrate Lag 2: {round(cross_corr[3],4)}\")\n",
    "print(\"--------------------------------------------------------------------------------------------\")"
   ]
  },
  {
   "cell_type": "code",
   "execution_count": 28,
   "metadata": {},
   "outputs": [
    {
     "name": "stdout",
     "output_type": "stream",
     "text": [
      "--------------------------------------------------------------------------------------------\n",
      "Grenger Causality Test Results for: Revenue and Minutes played by U21 players from 1996 \n",
      "--------------------------------------------------------------------------------------------\n",
      "   Lag  Test Statistic   P-value\n",
      "1  1.0       10.303745  0.005789\n",
      "2  2.0       13.644901  0.003431\n",
      "3  3.0       21.863761  0.000213\n"
     ]
    }
   ],
   "source": [
    "granger_test(mins_played[['revenue','Minutes_played_under21']][29:],4,2,\"Revenue and Minutes played by U21 players from 1996\")"
   ]
  },
  {
   "cell_type": "code",
   "execution_count": 29,
   "metadata": {},
   "outputs": [
    {
     "data": {
      "text/plain": [
       "<Axes: >"
      ]
     },
     "execution_count": 29,
     "metadata": {},
     "output_type": "execute_result"
    },
    {
     "data": {
      "image/png": "[encoded data removed]",
      "text/plain": [
       "<Figure size 640x480 with 1 Axes>"
      ]
     },
     "metadata": {},
     "output_type": "display_data"
    }
   ],
   "source": [
    "mins_played[\"revenue\"][29:].plot()\n",
    "mins_played[\"Minutes_played_under21\"][29:].plot()\n"
   ]
  },
  {
   "cell_type": "code",
   "execution_count": null,
   "metadata": {},
   "outputs": [
    {
     "data": {
      "image/png": "[encoded data removed]",
      "text/plain": [
       "<Figure size 1000x600 with 1 Axes>"
      ]
     },
     "metadata": {},
     "output_type": "display_data"
    }
   ],
   "source": [
    "#stampa il grafico della correlazione tra i minuti giocati dai giocatori under 21 e il ranking uefa come retta di regressione\n",
    "import seaborn as sns\n",
    "sns.set_theme(style=\"whitegrid\")\n",
    "plt.figure(figsize=(10,6))\n",
    "sns.regplot(x=mins_played[\"Minutes_played_under21\"], y=mins_played[\"revenue\"])\n",
    "plt.xlabel(\"Minutes_played_under21\")\n",
    "plt.ylabel(\"Revenue\")\n",
    "plt.title(\"Correlazione tra i minuti giocati dai giocatori under 21 e il ranking uefa\")\n",
    "plt.show()\n",
    "\n"
   ]
  },
  {
   "cell_type": "code",
   "execution_count": null,
   "metadata": {},
   "outputs": [
    {
     "name": "stdout",
     "output_type": "stream",
     "text": [
      "                            OLS Regression Results                            \n",
      "==============================================================================\n",
      "Dep. Variable:                revenue   R-squared:                       0.146\n",
      "Model:                            OLS   Adj. R-squared:                  0.111\n",
      "Method:                 Least Squares   F-statistic:                     4.112\n",
      "Date:                Tue, 06 Feb 2024   Prob (F-statistic):             0.0538\n",
      "Time:                        13:38:59   Log-Likelihood:                -20.655\n",
      "No. Observations:                  26   AIC:                             45.31\n",
      "Df Residuals:                      24   BIC:                             47.83\n",
      "Df Model:                           1                                         \n",
      "Covariance Type:            nonrobust                                         \n",
      "==========================================================================================\n",
      "                             coef    std err          t      P>|t|      [0.025      0.975]\n",
      "------------------------------------------------------------------------------------------\n",
      "const                      3.9111      0.590      6.628      0.000       2.693       5.129\n",
      "Minuti giocati under21     0.2054      0.101      2.028      0.054      -0.004       0.415\n",
      "==============================================================================\n",
      "Omnibus:                        0.483   Durbin-Watson:                   1.435\n",
      "Prob(Omnibus):                  0.786   Jarque-Bera (JB):                0.596\n",
      "Skew:                          -0.137   Prob(JB):                        0.742\n",
      "Kurtosis:                       2.311   Cond. No.                         32.3\n",
      "==============================================================================\n",
      "\n",
      "Notes:\n",
      "[1] Standard Errors assume that the covariance matrix of the errors is correctly specified.\n"
     ]
    }
   ],
   "source": [
    "#fai la OLS regression tra i minuti giocati dai giocatori under 21 e il ranking uefa\n",
    "import statsmodels.api as sm\n",
    "\n",
    "X = mins_played[\"Minutes_played_under21\"][29:-1]\n",
    "y = mins_played[\"revenue\"][29:-1]\n",
    "X = sm.add_constant(X)\n",
    "model = sm.OLS(y, X)\n",
    "results = model.fit()\n",
    "print(results.summary())\n"
   ]
  }
 ],
 "metadata": {
  "kernelspec": {
   "display_name": "Python 3",
   "language": "python",
   "name": "python3"
  },
  "language_info": {
   "codemirror_mode": {
    "name": "ipython",
    "version": 3
   },
   "file_extension": ".py",
   "mimetype": "text/x-python",
   "name": "python",
   "nbconvert_exporter": "python",
   "pygments_lexer": "ipython3",
   "version": "3.10.11"
  }
 },
 "nbformat": 4,
 "nbformat_minor": 2
}
